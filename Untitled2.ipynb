{
 "cells": [
  {
   "cell_type": "code",
   "execution_count": 2,
   "id": "d885abd5-65f2-46a8-9e69-410de0297323",
   "metadata": {
    "tags": []
   },
   "outputs": [],
   "source": [
    "with open(\"dairy/2023-03-14.txt\", \"r\") as file:\n",
    "    content = file.read()"
   ]
  },
  {
   "cell_type": "code",
   "execution_count": 15,
   "id": "37015391-a269-409e-aee6-586138ebd31e",
   "metadata": {
    "tags": []
   },
   "outputs": [
    {
     "data": {
      "text/plain": [
       "{'neg': 0.257, 'neu': 0.634, 'pos': 0.108, 'compound': -0.4588}"
      ]
     },
     "execution_count": 15,
     "metadata": {},
     "output_type": "execute_result"
    }
   ],
   "source": [
    "import nltk\n",
    "from nltk.sentiment import SentimentIntensityAnalyzer\n",
    "\n",
    "analyzer = SentimentIntensityAnalyzer()\n",
    "analyzer.polarity_scores(content)"
   ]
  },
  {
   "cell_type": "code",
   "execution_count": 19,
   "id": "efcc61b2-71c5-4ba1-9324-af479e2a3263",
   "metadata": {
    "tags": []
   },
   "outputs": [
    {
     "name": "stdout",
     "output_type": "stream",
     "text": [
      "{'neg': 0.272, 'neu': 0.584, 'pos': 0.144, 'compound': -0.5106}\n",
      "{'neg': 0.336, 'neu': 0.664, 'pos': 0.0, 'compound': -0.7964}\n",
      "{'neg': 0.0, 'neu': 0.554, 'pos': 0.446, 'compound': 0.9169}\n",
      "{'neg': 0.0, 'neu': 0.578, 'pos': 0.422, 'compound': 0.807}\n",
      "{'neg': 0.257, 'neu': 0.634, 'pos': 0.108, 'compound': -0.4588}\n",
      "[0.144, 0.0, 0.446, 0.422, 0.108]\n",
      "[0.272, 0.336, 0.0, 0.0, 0.257]\n"
     ]
    }
   ],
   "source": [
    "import glob\n",
    "pos_list = []\n",
    "neg_list = []\n",
    "for name in glob.glob(\"dairy/*.txt\"):\n",
    "    with open(name, \"r\") as file:\n",
    "        content = file.read()\n",
    "    result = analyzer.polarity_scores(content)\n",
    "    pos_list.append(result[\"pos\"])\n",
    "    neg_list.append(result[\"neg\"])\n",
    "    print(result)\n",
    "print(pos_list)\n",
    "print(neg_list)"
   ]
  }
 ],
 "metadata": {
  "kernelspec": {
   "display_name": "Python 3 (ipykernel)",
   "language": "python",
   "name": "python3"
  },
  "language_info": {
   "codemirror_mode": {
    "name": "ipython",
    "version": 3
   },
   "file_extension": ".py",
   "mimetype": "text/x-python",
   "name": "python",
   "nbconvert_exporter": "python",
   "pygments_lexer": "ipython3",
   "version": "3.11.1"
  }
 },
 "nbformat": 4,
 "nbformat_minor": 5
}
