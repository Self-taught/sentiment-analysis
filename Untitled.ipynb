{
 "cells": [
  {
   "cell_type": "markdown",
   "id": "a0882db4-617a-4eb4-9412-e304bfe2334f",
   "metadata": {},
   "source": [
    "# Load the book"
   ]
  },
  {
   "cell_type": "code",
   "execution_count": 2,
   "id": "c4c3396b-7398-48b6-838c-05bf6b5ee57f",
   "metadata": {
    "tags": []
   },
   "outputs": [],
   "source": [
    "with open(\"miracle_in_the_andes.txt\", \"r\", encoding=\"UTF-8\") as file:\n",
    "    book = file.read()"
   ]
  },
  {
   "cell_type": "code",
   "execution_count": 3,
   "id": "2a36c7e4-c244-4341-a09b-dc8c718cdad8",
   "metadata": {
    "tags": []
   },
   "outputs": [
    {
     "data": {
      "text/plain": [
       "str"
      ]
     },
     "execution_count": 3,
     "metadata": {},
     "output_type": "execute_result"
    }
   ],
   "source": [
    "type(book)"
   ]
  },
  {
   "cell_type": "markdown",
   "id": "3c18c427-6f07-47f5-bb92-0843b1aabacb",
   "metadata": {},
   "source": [
    "# How many chapters?"
   ]
  },
  {
   "cell_type": "markdown",
   "id": "15dbb743-6ab2-4f34-8aac-720d043a00aa",
   "metadata": {},
   "source": [
    "### with string methods"
   ]
  },
  {
   "cell_type": "code",
   "execution_count": 7,
   "id": "079d5554-0191-4660-b4e2-da1c7fab9a58",
   "metadata": {
    "tags": []
   },
   "outputs": [
    {
     "data": {
      "text/plain": [
       "11"
      ]
     },
     "execution_count": 7,
     "metadata": {},
     "output_type": "execute_result"
    }
   ],
   "source": [
    "book.count(\"Chapter\")"
   ]
  },
  {
   "cell_type": "markdown",
   "id": "e47dd937-7b04-4227-89b8-90db77cc4a16",
   "metadata": {},
   "source": [
    "### with regex method"
   ]
  },
  {
   "cell_type": "code",
   "execution_count": 5,
   "id": "48e65d10-44f0-49e9-978d-65fbc37875e5",
   "metadata": {
    "tags": []
   },
   "outputs": [],
   "source": [
    "import re"
   ]
  },
  {
   "cell_type": "code",
   "execution_count": 66,
   "id": "eed4fd97-c9ba-47d7-bf87-08aa2d20a906",
   "metadata": {
    "tags": []
   },
   "outputs": [
    {
     "data": {
      "text/plain": [
       "67"
      ]
     },
     "execution_count": 66,
     "metadata": {},
     "output_type": "execute_result"
    }
   ],
   "source": [
    "pattern = re.compile(\"[A-Z]{1}[^.]*[^A-Za-z]+love[^A-Za-z]+[^.]*.\")\n",
    "finding = re.findall(pattern, book)\n",
    "len(finding)"
   ]
  },
  {
   "cell_type": "code",
   "execution_count": 67,
   "id": "5507a2c3-80a7-4745-9b61-9564169e5bfd",
   "metadata": {
    "tags": []
   },
   "outputs": [
    {
     "data": {
      "text/plain": [
       "55"
      ]
     },
     "execution_count": 67,
     "metadata": {},
     "output_type": "execute_result"
    }
   ],
   "source": [
    "pattern = re.compile(\" love \")\n",
    "findings = re.findall(pattern, book)\n",
    "len(findings)"
   ]
  },
  {
   "cell_type": "code",
   "execution_count": 6,
   "id": "8cea5c15-7312-477b-b5a9-1737a56f3492",
   "metadata": {
    "tags": []
   },
   "outputs": [
    {
     "data": {
      "text/plain": [
       "['chapter',\n",
       " 'before',\n",
       " 'it',\n",
       " 'was',\n",
       " 'friday',\n",
       " 'the',\n",
       " 'thirteenth',\n",
       " 'of',\n",
       " 'october',\n",
       " 'we']"
      ]
     },
     "execution_count": 6,
     "metadata": {},
     "output_type": "execute_result"
    }
   ],
   "source": [
    "pattern = re.compile(\"[a-zA-Z]+\")\n",
    "findings = re.findall(pattern, book.lower())\n",
    "findings[:10]"
   ]
  },
  {
   "cell_type": "code",
   "execution_count": 18,
   "id": "330f30ca-78c6-44ba-8168-03c50a18f2ea",
   "metadata": {
    "tags": []
   },
   "outputs": [],
   "source": [
    "d = {}\n",
    "for word in findings[:10]:\n",
    "    if word in d.keys():\n",
    "        d[word] = d[word] + 1\n",
    "    else:\n",
    "        d[word] = 1"
   ]
  },
  {
   "cell_type": "code",
   "execution_count": 20,
   "id": "4ba0ebba-0f12-481e-9bb5-dcba01874d62",
   "metadata": {
    "tags": []
   },
   "outputs": [
    {
     "data": {
      "text/plain": [
       "[(1, 'we'),\n",
       " (1, 'was'),\n",
       " (1, 'thirteenth'),\n",
       " (1, 'the'),\n",
       " (1, 'of'),\n",
       " (1, 'october'),\n",
       " (1, 'it'),\n",
       " (1, 'friday'),\n",
       " (1, 'chapter'),\n",
       " (1, 'before')]"
      ]
     },
     "execution_count": 20,
     "metadata": {},
     "output_type": "execute_result"
    }
   ],
   "source": [
    "d_list = [(value, key) for (key, value) in d.items()]\n",
    "sorted(d_list, reverse = True)"
   ]
  },
  {
   "cell_type": "markdown",
   "id": "1130eb8d-4355-4cb0-8850-eecc2cc62b20",
   "metadata": {},
   "source": [
    "# Extract the paragraphs where love was used"
   ]
  },
  {
   "cell_type": "code",
   "execution_count": 87,
   "id": "c15f634c-2045-4393-833f-295b6aea3287",
   "metadata": {
    "tags": []
   },
   "outputs": [
    {
     "data": {
      "text/plain": [
       "'I always laughed when he talked this way, but I could not ignore the hidden streak of anger and sadness that those questions revealed. I did not judge him for this, because I knew it was all the result of a broken heart. Panchito’s parents had divorced when he was fourteen years old. It was a disaster that had wounded him in ways he could not heal and had left him with much resentment. He had two brothers, and a stepbrother from his father’s previous marriage, but still, there was something missing for him. I believe he had a great hunger for the love and comforts of a family that was happy and whole. In any case, it did not take me long to realize that despite all the natural gifts he had been blessed with, all the things I envied him for, he envied me more for the one thing I had that he could only dream of—my sisters, my grandmother, my mother and father, all of us together in a close and happy home.'"
      ]
     },
     "execution_count": 87,
     "metadata": {},
     "output_type": "execute_result"
    }
   ],
   "source": [
    "pattern = re.compile(\"[^\\n]+love[^\\n]+\")\n",
    "finding = re.findall(pattern, book)\n",
    "finding[2]"
   ]
  },
  {
   "cell_type": "markdown",
   "id": "835a6884-d012-4cd9-866e-52c7071749cc",
   "metadata": {},
   "source": [
    "# Extract the chapter titles"
   ]
  },
  {
   "cell_type": "code",
   "execution_count": 61,
   "id": "9730cfda-10f4-46c8-b0df-92f759fe164e",
   "metadata": {
    "tags": []
   },
   "outputs": [
    {
     "data": {
      "text/plain": [
       "['Before',\n",
       " 'Everything Precious',\n",
       " 'A Promise',\n",
       " 'Breathe Once More',\n",
       " 'Abandoned',\n",
       " 'Tomb',\n",
       " 'East',\n",
       " 'The Opposite of Death',\n",
       " 'I See a Man',\n",
       " 'After']"
      ]
     },
     "execution_count": 61,
     "metadata": {},
     "output_type": "execute_result"
    }
   ],
   "source": [
    "pattern = re.compile(\"Chapter [0-9]+[\\n][\\n][^\\n]+\")\n",
    "findings = re.findall(pattern, book)\n",
    "findings\n",
    "chapter_title = [title.split(\"\\n\\n\")[1] for title in findings]\n",
    "chapter_title"
   ]
  },
  {
   "cell_type": "code",
   "execution_count": 103,
   "id": "1d4b2531-6933-4fa3-a74e-dc4b72319a39",
   "metadata": {
    "tags": []
   },
   "outputs": [],
   "source": [
    "def find_words(word):\n",
    "    pattern = re.compile(\"[a-zA-Z]+\")\n",
    "    findings = re.findall(pattern, book.lower())\n",
    "    d={}\n",
    "    for f in findings:\n",
    "        if f in d.keys():\n",
    "            d[f] = d[f] + 1\n",
    "        else:\n",
    "            d[f] = 1\n",
    "    try:\n",
    "        return d[word]\n",
    "    except:\n",
    "        return f\"This book does not contain the word '{word}'\""
   ]
  },
  {
   "cell_type": "code",
   "execution_count": 104,
   "id": "be3cb287-4837-4664-8256-fb1dc292fca7",
   "metadata": {
    "tags": []
   },
   "outputs": [
    {
     "data": {
      "text/plain": [
       "83"
      ]
     },
     "execution_count": 104,
     "metadata": {},
     "output_type": "execute_result"
    }
   ],
   "source": [
    "find_words(\"love\")"
   ]
  },
  {
   "cell_type": "code",
   "execution_count": 107,
   "id": "16631a77-f395-4839-b9c4-fbc6069186a0",
   "metadata": {
    "tags": []
   },
   "outputs": [
    {
     "data": {
      "text/plain": [
       "\"This book does not contain the word 'hate'\""
      ]
     },
     "execution_count": 107,
     "metadata": {},
     "output_type": "execute_result"
    }
   ],
   "source": [
    "find_words(\"hate\")"
   ]
  },
  {
   "cell_type": "code",
   "execution_count": 109,
   "id": "e82eb5fd-d68b-451d-8b14-b739dcefd054",
   "metadata": {
    "tags": []
   },
   "outputs": [
    {
     "data": {
      "text/plain": [
       "4"
      ]
     },
     "execution_count": 109,
     "metadata": {},
     "output_type": "execute_result"
    }
   ],
   "source": [
    "find_words(\"sad\")"
   ]
  },
  {
   "cell_type": "code",
   "execution_count": 110,
   "id": "17032836-1267-4f2f-81a1-92ffe1484010",
   "metadata": {
    "tags": []
   },
   "outputs": [
    {
     "data": {
      "text/plain": [
       "26"
      ]
     },
     "execution_count": 110,
     "metadata": {},
     "output_type": "execute_result"
    }
   ],
   "source": [
    "find_words(\"happy\")"
   ]
  },
  {
   "cell_type": "code",
   "execution_count": 91,
   "id": "5814183d-43ad-47b5-9cb0-3eaaba501be5",
   "metadata": {
    "tags": []
   },
   "outputs": [
    {
     "data": {
      "text/plain": [
       "['Before',\n",
       " 'Everything Precious',\n",
       " 'A Promise',\n",
       " 'Breathe Once More',\n",
       " 'Abandoned',\n",
       " 'Tomb',\n",
       " 'East',\n",
       " 'The Opposite of Death',\n",
       " 'I See a Man',\n",
       " 'After']"
      ]
     },
     "execution_count": 91,
     "metadata": {},
     "output_type": "execute_result"
    }
   ],
   "source": [
    "pattern = re.compile(\"([a-zA-Z ]+)\\n\\n\")\n",
    "findings = re.findall(pattern, book)\n",
    "findings"
   ]
  }
 ],
 "metadata": {
  "kernelspec": {
   "display_name": "Python 3 (ipykernel)",
   "language": "python",
   "name": "python3"
  },
  "language_info": {
   "codemirror_mode": {
    "name": "ipython",
    "version": 3
   },
   "file_extension": ".py",
   "mimetype": "text/x-python",
   "name": "python",
   "nbconvert_exporter": "python",
   "pygments_lexer": "ipython3",
   "version": "3.11.1"
  }
 },
 "nbformat": 4,
 "nbformat_minor": 5
}
